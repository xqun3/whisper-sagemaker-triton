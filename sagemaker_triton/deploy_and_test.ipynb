{
 "cells": [
  {
   "cell_type": "markdown",
   "id": "e407f2b5-9a81-47b0-be7a-a7774e0b4ec5",
   "metadata": {},
   "source": [
    "## 0. 配置sagemaker，获取 account id 等"
   ]
  },
  {
   "cell_type": "code",
   "execution_count": 1,
   "id": "68523e16-b576-401b-be82-d3deb43c21c4",
   "metadata": {
    "tags": []
   },
   "outputs": [
    {
     "name": "stdout",
     "output_type": "stream",
     "text": [
      "sagemaker.config INFO - Not applying SDK defaults from location: /etc/xdg/sagemaker/config.yaml\n",
      "sagemaker.config INFO - Not applying SDK defaults from location: /home/ec2-user/.config/sagemaker/config.yaml\n"
     ]
    }
   ],
   "source": [
    "import boto3\n",
    "import sagemaker\n",
    "from sagemaker import Model, image_uris, serializers, deserializers\n",
    "role = sagemaker.get_execution_role()\n",
    "sess = sagemaker.session.Session()  # sagemaker session for interacting with different AWS APIs\n",
    "region = sess._region_name # region name of the current SageMaker Studio environment\n",
    "account_id = sess.account_id()"
   ]
  },
  {
   "cell_type": "markdown",
   "id": "9180fa10-51bf-4d1a-a184-3824ed3fe1ab",
   "metadata": {},
   "source": [
    "## 1. 配置要调用的镜像\n",
    "\n",
    "之前 terminal 打包上传到 ECR 的镜像"
   ]
  },
  {
   "cell_type": "code",
   "execution_count": 15,
   "id": "b5648f51-1032-49ce-9603-9a8e76ffacc1",
   "metadata": {
    "tags": []
   },
   "outputs": [
    {
     "name": "stdout",
     "output_type": "stream",
     "text": [
      "WARNING! Your password will be stored unencrypted in /home/ec2-user/.docker/config.json.\n",
      "Configure a credential helper to remove this warning. See\n",
      "https://docs.docker.com/engine/reference/commandline/login/#credentials-store\n",
      "\n",
      "Login Succeeded\n"
     ]
    }
   ],
   "source": [
    "# login\n",
    "!aws ecr get-login-password --region {region} | docker login --username AWS --password-stdin {account_id}.dkr.ecr.{region}.amazonaws.com\n",
    "\n",
    "\n",
    "REPO_NAME = \"sagemaker-endpoint/whisper-triton-byoc\"\n",
    "CONTAINER = f\"{account_id}.dkr.ecr.{region}.amazonaws.com/{REPO_NAME}:latest\"\n"
   ]
  },
  {
   "cell_type": "code",
   "execution_count": 4,
   "id": "9e605039-b9ae-4d02-9b29-28d4cc69b174",
   "metadata": {
    "tags": []
   },
   "outputs": [
    {
     "name": "stdout",
     "output_type": "stream",
     "text": [
      "rm: cannot remove ‘model_date.tar.gz’: No such file or directory\n",
      "model_data/\n",
      "model_data/triton_client_preprocessed.py\n",
      "model_data/inference.py\n",
      "model_data/start_triton_and_client.sh\n",
      "model_data/.ipynb_checkpoints/\n",
      "model_data/.ipynb_checkpoints/inference-checkpoint.py\n",
      "model_data/.ipynb_checkpoints/download_model_from_s3-checkpoint.py\n",
      "model_data/.ipynb_checkpoints/triton_client-checkpoint.py\n",
      "model_data/.ipynb_checkpoints/start_triton_and_client-checkpoint.sh\n",
      "model_data/.ipynb_checkpoints/triton_client_preprocessed-checkpoint.py\n",
      "model_data/.ipynb_checkpoints/ssh_helper_start-checkpoint.py\n",
      "model_data/download_model_from_s3.py\n",
      "model_data/ssh_helper_start.py\n",
      "model_data/triton_client.py\n"
     ]
    }
   ],
   "source": [
    "!rm model_date.tar.gz\n",
    "!cat model_data/deploy_config.sh\n",
    "!tar czvf model_data.tar.gz model_data/ --exclude=model_data/.ipynb_checkpoints --exclude=model_data/__pycache__"
   ]
  },
  {
   "cell_type": "code",
   "execution_count": 5,
   "id": "1e07dea3-5d6a-4807-879c-3523ab6b79e6",
   "metadata": {
    "tags": []
   },
   "outputs": [
    {
     "name": "stdout",
     "output_type": "stream",
     "text": [
      "S3 Code or Model tar ball uploaded to --- > s3://sagemaker-us-east-1-596899493901/model_repo_whisper_trtll/model_data.tar.gz\n"
     ]
    }
   ],
   "source": [
    "s3_code_prefix = f\"whisper_deploy_codes\"\n",
    "bucket = sess.default_bucket()\n",
    "code_artifact = sess.upload_data(\"model_data.tar.gz\", bucket, s3_code_prefix)\n",
    "print(f\"S3 Code or Model tar ball uploaded to --- > {code_artifact}\")"
   ]
  },
  {
   "cell_type": "markdown",
   "id": "06a99c5f-e8d1-44a2-ae81-f9120a325808",
   "metadata": {},
   "source": [
    "## 2. 使用 SSH-helper 进行调试（可选）\n",
    "\n",
    "Since we are using the BYOC (Bring Your Own Container) method to deploy model, we can deploy and debug the code using SSH Helper after preparing the initial code. Once the debugging is successful, we can then deploy it using the regular method.\n",
    "\n",
    "1. Deploy the model using SageMaker SSH Helper(Setting up your AWS account with IAM and SSM configuration)\n",
    "2. After got the instance_id, ssh to the instance and debug.\n",
    "\n",
    "\n",
    "在部署的时候使用 SSH-helper 进行推理调试，也会启动一个 sagemaker 实例，在不使用时，使用最后清理步骤，删除节点"
   ]
  },
  {
   "cell_type": "code",
   "execution_count": 3,
   "id": "a5680eee-5535-4c68-bf9a-90abff0bd727",
   "metadata": {
    "collapsed": true,
    "jupyter": {
     "outputs_hidden": true
    },
    "tags": []
   },
   "outputs": [
    {
     "name": "stdout",
     "output_type": "stream",
     "text": [
      "Collecting sagemaker_ssh_helper==2.2.0\n",
      "  Downloading sagemaker_ssh_helper-2.2.0-py3-none-any.whl.metadata (3.1 kB)\n",
      "Requirement already satisfied: sagemaker>=2.145.0 in /home/ec2-user/anaconda3/envs/pytorch_p310/lib/python3.10/site-packages (from sagemaker_ssh_helper==2.2.0) (2.231.0)\n",
      "Requirement already satisfied: psutil in /home/ec2-user/anaconda3/envs/pytorch_p310/lib/python3.10/site-packages (from sagemaker_ssh_helper==2.2.0) (6.0.0)\n",
      "Requirement already satisfied: attrs<24,>=23.1.0 in /home/ec2-user/anaconda3/envs/pytorch_p310/lib/python3.10/site-packages (from sagemaker>=2.145.0->sagemaker_ssh_helper==2.2.0) (23.2.0)\n",
      "Requirement already satisfied: boto3<2.0,>=1.34.142 in /home/ec2-user/anaconda3/envs/pytorch_p310/lib/python3.10/site-packages (from sagemaker>=2.145.0->sagemaker_ssh_helper==2.2.0) (1.35.16)\n",
      "Requirement already satisfied: cloudpickle==2.2.1 in /home/ec2-user/anaconda3/envs/pytorch_p310/lib/python3.10/site-packages (from sagemaker>=2.145.0->sagemaker_ssh_helper==2.2.0) (2.2.1)\n",
      "Requirement already satisfied: docker in /home/ec2-user/anaconda3/envs/pytorch_p310/lib/python3.10/site-packages (from sagemaker>=2.145.0->sagemaker_ssh_helper==2.2.0) (7.1.0)\n",
      "Requirement already satisfied: google-pasta in /home/ec2-user/anaconda3/envs/pytorch_p310/lib/python3.10/site-packages (from sagemaker>=2.145.0->sagemaker_ssh_helper==2.2.0) (0.2.0)\n",
      "Requirement already satisfied: importlib-metadata<7.0,>=1.4.0 in /home/ec2-user/anaconda3/envs/pytorch_p310/lib/python3.10/site-packages (from sagemaker>=2.145.0->sagemaker_ssh_helper==2.2.0) (6.11.0)\n",
      "Requirement already satisfied: jsonschema in /home/ec2-user/anaconda3/envs/pytorch_p310/lib/python3.10/site-packages (from sagemaker>=2.145.0->sagemaker_ssh_helper==2.2.0) (4.23.0)\n",
      "Requirement already satisfied: numpy<2.0,>=1.9.0 in /home/ec2-user/anaconda3/envs/pytorch_p310/lib/python3.10/site-packages (from sagemaker>=2.145.0->sagemaker_ssh_helper==2.2.0) (1.26.4)\n",
      "Requirement already satisfied: packaging>=20.0 in /home/ec2-user/anaconda3/envs/pytorch_p310/lib/python3.10/site-packages (from sagemaker>=2.145.0->sagemaker_ssh_helper==2.2.0) (21.3)\n",
      "Requirement already satisfied: pandas in /home/ec2-user/anaconda3/envs/pytorch_p310/lib/python3.10/site-packages (from sagemaker>=2.145.0->sagemaker_ssh_helper==2.2.0) (1.5.3)\n",
      "Requirement already satisfied: pathos in /home/ec2-user/anaconda3/envs/pytorch_p310/lib/python3.10/site-packages (from sagemaker>=2.145.0->sagemaker_ssh_helper==2.2.0) (0.3.2)\n",
      "Requirement already satisfied: platformdirs in /home/ec2-user/anaconda3/envs/pytorch_p310/lib/python3.10/site-packages (from sagemaker>=2.145.0->sagemaker_ssh_helper==2.2.0) (4.2.2)\n",
      "Requirement already satisfied: protobuf<5.0,>=3.12 in /home/ec2-user/anaconda3/envs/pytorch_p310/lib/python3.10/site-packages (from sagemaker>=2.145.0->sagemaker_ssh_helper==2.2.0) (4.25.4)\n",
      "Requirement already satisfied: pyyaml~=6.0 in /home/ec2-user/anaconda3/envs/pytorch_p310/lib/python3.10/site-packages (from sagemaker>=2.145.0->sagemaker_ssh_helper==2.2.0) (6.0.1)\n",
      "Requirement already satisfied: requests in /home/ec2-user/anaconda3/envs/pytorch_p310/lib/python3.10/site-packages (from sagemaker>=2.145.0->sagemaker_ssh_helper==2.2.0) (2.32.3)\n",
      "Requirement already satisfied: sagemaker-core<2.0.0,>=1.0.0 in /home/ec2-user/anaconda3/envs/pytorch_p310/lib/python3.10/site-packages (from sagemaker>=2.145.0->sagemaker_ssh_helper==2.2.0) (1.0.4)\n",
      "Requirement already satisfied: schema in /home/ec2-user/anaconda3/envs/pytorch_p310/lib/python3.10/site-packages (from sagemaker>=2.145.0->sagemaker_ssh_helper==2.2.0) (0.7.7)\n",
      "Requirement already satisfied: smdebug-rulesconfig==1.0.1 in /home/ec2-user/anaconda3/envs/pytorch_p310/lib/python3.10/site-packages (from sagemaker>=2.145.0->sagemaker_ssh_helper==2.2.0) (1.0.1)\n",
      "Requirement already satisfied: tblib<4,>=1.7.0 in /home/ec2-user/anaconda3/envs/pytorch_p310/lib/python3.10/site-packages (from sagemaker>=2.145.0->sagemaker_ssh_helper==2.2.0) (3.0.0)\n",
      "Requirement already satisfied: tqdm in /home/ec2-user/anaconda3/envs/pytorch_p310/lib/python3.10/site-packages (from sagemaker>=2.145.0->sagemaker_ssh_helper==2.2.0) (4.66.4)\n",
      "Requirement already satisfied: urllib3<3.0.0,>=1.26.8 in /home/ec2-user/anaconda3/envs/pytorch_p310/lib/python3.10/site-packages (from sagemaker>=2.145.0->sagemaker_ssh_helper==2.2.0) (2.2.2)\n",
      "Requirement already satisfied: botocore<1.36.0,>=1.35.16 in /home/ec2-user/anaconda3/envs/pytorch_p310/lib/python3.10/site-packages (from boto3<2.0,>=1.34.142->sagemaker>=2.145.0->sagemaker_ssh_helper==2.2.0) (1.35.16)\n",
      "Requirement already satisfied: jmespath<2.0.0,>=0.7.1 in /home/ec2-user/anaconda3/envs/pytorch_p310/lib/python3.10/site-packages (from boto3<2.0,>=1.34.142->sagemaker>=2.145.0->sagemaker_ssh_helper==2.2.0) (1.0.1)\n",
      "Requirement already satisfied: s3transfer<0.11.0,>=0.10.0 in /home/ec2-user/anaconda3/envs/pytorch_p310/lib/python3.10/site-packages (from boto3<2.0,>=1.34.142->sagemaker>=2.145.0->sagemaker_ssh_helper==2.2.0) (0.10.2)\n",
      "Requirement already satisfied: zipp>=0.5 in /home/ec2-user/anaconda3/envs/pytorch_p310/lib/python3.10/site-packages (from importlib-metadata<7.0,>=1.4.0->sagemaker>=2.145.0->sagemaker_ssh_helper==2.2.0) (3.19.2)\n",
      "Requirement already satisfied: pyparsing!=3.0.5,>=2.0.2 in /home/ec2-user/anaconda3/envs/pytorch_p310/lib/python3.10/site-packages (from packaging>=20.0->sagemaker>=2.145.0->sagemaker_ssh_helper==2.2.0) (3.1.2)\n",
      "Requirement already satisfied: pydantic<3.0.0,>=1.7.0 in /home/ec2-user/anaconda3/envs/pytorch_p310/lib/python3.10/site-packages (from sagemaker-core<2.0.0,>=1.0.0->sagemaker>=2.145.0->sagemaker_ssh_helper==2.2.0) (2.8.2)\n",
      "Requirement already satisfied: rich<14.0.0,>=13.0.0 in /home/ec2-user/anaconda3/envs/pytorch_p310/lib/python3.10/site-packages (from sagemaker-core<2.0.0,>=1.0.0->sagemaker>=2.145.0->sagemaker_ssh_helper==2.2.0) (13.8.1)\n",
      "Requirement already satisfied: mock<5.0,>4.0 in /home/ec2-user/anaconda3/envs/pytorch_p310/lib/python3.10/site-packages (from sagemaker-core<2.0.0,>=1.0.0->sagemaker>=2.145.0->sagemaker_ssh_helper==2.2.0) (4.0.3)\n",
      "Requirement already satisfied: jsonschema-specifications>=2023.03.6 in /home/ec2-user/anaconda3/envs/pytorch_p310/lib/python3.10/site-packages (from jsonschema->sagemaker>=2.145.0->sagemaker_ssh_helper==2.2.0) (2023.12.1)\n",
      "Requirement already satisfied: referencing>=0.28.4 in /home/ec2-user/anaconda3/envs/pytorch_p310/lib/python3.10/site-packages (from jsonschema->sagemaker>=2.145.0->sagemaker_ssh_helper==2.2.0) (0.35.1)\n",
      "Requirement already satisfied: rpds-py>=0.7.1 in /home/ec2-user/anaconda3/envs/pytorch_p310/lib/python3.10/site-packages (from jsonschema->sagemaker>=2.145.0->sagemaker_ssh_helper==2.2.0) (0.19.1)\n",
      "Requirement already satisfied: charset-normalizer<4,>=2 in /home/ec2-user/anaconda3/envs/pytorch_p310/lib/python3.10/site-packages (from requests->sagemaker>=2.145.0->sagemaker_ssh_helper==2.2.0) (3.3.2)\n",
      "Requirement already satisfied: idna<4,>=2.5 in /home/ec2-user/anaconda3/envs/pytorch_p310/lib/python3.10/site-packages (from requests->sagemaker>=2.145.0->sagemaker_ssh_helper==2.2.0) (3.7)\n",
      "Requirement already satisfied: certifi>=2017.4.17 in /home/ec2-user/anaconda3/envs/pytorch_p310/lib/python3.10/site-packages (from requests->sagemaker>=2.145.0->sagemaker_ssh_helper==2.2.0) (2024.7.4)\n",
      "Requirement already satisfied: six in /home/ec2-user/anaconda3/envs/pytorch_p310/lib/python3.10/site-packages (from google-pasta->sagemaker>=2.145.0->sagemaker_ssh_helper==2.2.0) (1.16.0)\n",
      "Requirement already satisfied: python-dateutil>=2.8.1 in /home/ec2-user/anaconda3/envs/pytorch_p310/lib/python3.10/site-packages (from pandas->sagemaker>=2.145.0->sagemaker_ssh_helper==2.2.0) (2.9.0)\n",
      "Requirement already satisfied: pytz>=2020.1 in /home/ec2-user/anaconda3/envs/pytorch_p310/lib/python3.10/site-packages (from pandas->sagemaker>=2.145.0->sagemaker_ssh_helper==2.2.0) (2024.1)\n",
      "Requirement already satisfied: ppft>=1.7.6.8 in /home/ec2-user/anaconda3/envs/pytorch_p310/lib/python3.10/site-packages (from pathos->sagemaker>=2.145.0->sagemaker_ssh_helper==2.2.0) (1.7.6.8)\n",
      "Requirement already satisfied: dill>=0.3.8 in /home/ec2-user/anaconda3/envs/pytorch_p310/lib/python3.10/site-packages (from pathos->sagemaker>=2.145.0->sagemaker_ssh_helper==2.2.0) (0.3.8)\n",
      "Requirement already satisfied: pox>=0.3.4 in /home/ec2-user/anaconda3/envs/pytorch_p310/lib/python3.10/site-packages (from pathos->sagemaker>=2.145.0->sagemaker_ssh_helper==2.2.0) (0.3.4)\n",
      "Requirement already satisfied: multiprocess>=0.70.16 in /home/ec2-user/anaconda3/envs/pytorch_p310/lib/python3.10/site-packages (from pathos->sagemaker>=2.145.0->sagemaker_ssh_helper==2.2.0) (0.70.16)\n",
      "Requirement already satisfied: annotated-types>=0.4.0 in /home/ec2-user/anaconda3/envs/pytorch_p310/lib/python3.10/site-packages (from pydantic<3.0.0,>=1.7.0->sagemaker-core<2.0.0,>=1.0.0->sagemaker>=2.145.0->sagemaker_ssh_helper==2.2.0) (0.7.0)\n",
      "Requirement already satisfied: pydantic-core==2.20.1 in /home/ec2-user/anaconda3/envs/pytorch_p310/lib/python3.10/site-packages (from pydantic<3.0.0,>=1.7.0->sagemaker-core<2.0.0,>=1.0.0->sagemaker>=2.145.0->sagemaker_ssh_helper==2.2.0) (2.20.1)\n",
      "Requirement already satisfied: typing-extensions>=4.6.1 in /home/ec2-user/anaconda3/envs/pytorch_p310/lib/python3.10/site-packages (from pydantic<3.0.0,>=1.7.0->sagemaker-core<2.0.0,>=1.0.0->sagemaker>=2.145.0->sagemaker_ssh_helper==2.2.0) (4.12.2)\n",
      "Requirement already satisfied: markdown-it-py>=2.2.0 in /home/ec2-user/anaconda3/envs/pytorch_p310/lib/python3.10/site-packages (from rich<14.0.0,>=13.0.0->sagemaker-core<2.0.0,>=1.0.0->sagemaker>=2.145.0->sagemaker_ssh_helper==2.2.0) (3.0.0)\n",
      "Requirement already satisfied: pygments<3.0.0,>=2.13.0 in /home/ec2-user/anaconda3/envs/pytorch_p310/lib/python3.10/site-packages (from rich<14.0.0,>=13.0.0->sagemaker-core<2.0.0,>=1.0.0->sagemaker>=2.145.0->sagemaker_ssh_helper==2.2.0) (2.18.0)\n",
      "Requirement already satisfied: mdurl~=0.1 in /home/ec2-user/anaconda3/envs/pytorch_p310/lib/python3.10/site-packages (from markdown-it-py>=2.2.0->rich<14.0.0,>=13.0.0->sagemaker-core<2.0.0,>=1.0.0->sagemaker>=2.145.0->sagemaker_ssh_helper==2.2.0) (0.1.2)\n",
      "Downloading sagemaker_ssh_helper-2.2.0-py3-none-any.whl (98 kB)\n",
      "\u001b[2K   \u001b[90m━━━━━━━━━━━━━━━━━━━━━━━━━━━━━━━━━━━━━━━━\u001b[0m \u001b[32m98.8/98.8 kB\u001b[0m \u001b[31m11.6 MB/s\u001b[0m eta \u001b[36m0:00:00\u001b[0m\n",
      "\u001b[?25hInstalling collected packages: sagemaker_ssh_helper\n",
      "Successfully installed sagemaker_ssh_helper-2.2.0\n",
      "Note: you may need to restart the kernel to use updated packages.\n"
     ]
    }
   ],
   "source": [
    "%pip install sagemaker_ssh_helper==2.2.0"
   ]
  },
  {
   "cell_type": "code",
   "execution_count": 6,
   "id": "f26b7382-00f5-4eb4-82d4-5c3505426564",
   "metadata": {
    "tags": []
   },
   "outputs": [],
   "source": [
    "from sagemaker_ssh_helper.wrapper import SSHModelWrapper\n",
    "model = Model(image_uri=CONTAINER, model_data=code_artifact, role=role,dependencies=[SSHModelWrapper.dependency_dir()])"
   ]
  },
  {
   "cell_type": "code",
   "execution_count": 7,
   "id": "2b35cad0-f33d-4cd2-b6d5-de8b26e092b1",
   "metadata": {
    "tags": []
   },
   "outputs": [],
   "source": [
    "from sagemaker_ssh_helper.wrapper import SSHModelWrapper\n",
    "from time import gmtime, strftime\n",
    "from sagemaker import Predictor\n",
    "instance_type = \"ml.g5.4xlarge\"\n",
    "# instance_type = \"ml.p4d.24xlarge\"\n",
    "endpoint_name = sagemaker.utils.name_from_base(\"whisper-trt-triton-sshelper\")\n",
    "# endpointName=\"gpt-sovits-sagemaker-endpoint-v2-\"+strftime(\"%Y-%m-%d-%H-%M-%S\", gmtime())\n",
    "\n",
    "ssh_wrapper = SSHModelWrapper.create(model, connection_wait_time_seconds=0)  # <--NEW--\n",
    "\n",
    "predictor = model.deploy(\n",
    "    initial_instance_count=1,\n",
    "    instance_type=instance_type,\n",
    "    endpoint_name=endpoint_name,\n",
    "    wait=False\n",
    ")\n",
    "\n",
    "\n",
    "# instance_ids = ssh_wrapper.get_instance_ids(timeout_in_sec=900)  # <--NEW-- \n",
    "# print(f\"To connect over SSM run: aws ssm start-session --target {instance_ids[0]}\")\n"
   ]
  },
  {
   "cell_type": "code",
   "execution_count": 8,
   "id": "d4bfaa8f-4028-49fe-a70d-236c109e7107",
   "metadata": {
    "tags": []
   },
   "outputs": [
    {
     "name": "stdout",
     "output_type": "stream",
     "text": [
      "Status: Creating\n",
      "Status: Creating\n",
      "Status: Creating\n",
      "Status: Creating\n",
      "Status: Creating\n",
      "Status: Creating\n",
      "Status: Creating\n",
      "Status: Creating\n",
      "Status: Creating\n",
      "Status: Creating\n",
      "Status: InService\n",
      "Arn: arn:aws:sagemaker:us-east-1:596899493901:endpoint/whisper-trt-triton-sshelper-2024-09-18-03-50-09-257\n",
      "Status: InService\n"
     ]
    }
   ],
   "source": [
    "import time\n",
    "sm_client = boto3.client(\"sagemaker\")\n",
    "resp = sm_client.describe_endpoint(EndpointName=endpoint_name)\n",
    "status = resp[\"EndpointStatus\"]\n",
    "print(\"Status: \" + status)\n",
    "\n",
    "while status == \"Creating\":\n",
    "    time.sleep(60)\n",
    "    resp = sm_client.describe_endpoint(EndpointName=endpoint_name)\n",
    "    status = resp[\"EndpointStatus\"]\n",
    "    print(\"Status: \" + status)\n",
    "\n",
    "print(\"Arn: \" + resp[\"EndpointArn\"])\n",
    "print(\"Status: \" + status)"
   ]
  },
  {
   "cell_type": "code",
   "execution_count": null,
   "id": "32a8d90b-f1f1-4a71-933e-bebf13053317",
   "metadata": {
    "tags": []
   },
   "outputs": [],
   "source": [
    "# aws ssm start-session --target <Your_instance_ids> \n",
    "instance_ids = ssh_wrapper.get_instance_ids(timeout_in_sec=0)\n",
    "print(instance_ids[0])"
   ]
  },
  {
   "cell_type": "markdown",
   "id": "801a7daa-35d0-4cf4-bff5-e99265917136",
   "metadata": {},
   "source": [
    "## 2. 正式部署"
   ]
  },
  {
   "cell_type": "code",
   "execution_count": 14,
   "id": "245094f7-dab7-4a5f-8e05-b0720b19aea4",
   "metadata": {
    "tags": []
   },
   "outputs": [
    {
     "name": "stdout",
     "output_type": "stream",
     "text": [
      "endpoint_name: whisper-large-v3-2024-09-18-05-29-54-792\n"
     ]
    },
    {
     "name": "stderr",
     "output_type": "stream",
     "text": [
      "Using already existing model: whisper-triton-preprocessed\n"
     ]
    },
    {
     "name": "stdout",
     "output_type": "stream",
     "text": [
      "--------------------!"
     ]
    }
   ],
   "source": [
    "model = Model(\n",
    "    model_data=code_artifact,\n",
    "    image_uri=CONTAINER,\n",
    "    role=role,\n",
    ")\n",
    "\n",
    "# 部署模型到endpoint\n",
    "endpoint_name = sagemaker.utils.name_from_base(\"whisper-large-v3\")\n",
    "print(f\"endpoint_name: {endpoint_name}\")\n",
    "predictor = model.deploy(\n",
    "    initial_instance_count=1,\n",
    "    instance_type='ml.g5.4xlarge',\n",
    "    endpoint_name=endpoint_name,\n",
    ")"
   ]
  },
  {
   "cell_type": "markdown",
   "id": "61c4e660-4a0e-484c-9c50-2cc1079f174d",
   "metadata": {},
   "source": [
    "## 3. 推理调用测试"
   ]
  },
  {
   "cell_type": "code",
   "execution_count": 12,
   "id": "a14c0755-0426-4c8f-a2aa-b351bc630c1d",
   "metadata": {
    "tags": []
   },
   "outputs": [
    {
     "name": "stdout",
     "output_type": "stream",
     "text": [
      "Collecting pydub\n",
      "  Downloading pydub-0.25.1-py2.py3-none-any.whl.metadata (1.4 kB)\n",
      "Downloading pydub-0.25.1-py2.py3-none-any.whl (32 kB)\n",
      "Installing collected packages: pydub\n",
      "Successfully installed pydub-0.25.1\n",
      "Note: you may need to restart the kernel to use updated packages.\n"
     ]
    }
   ],
   "source": [
    "%pip install pydub"
   ]
  },
  {
   "cell_type": "code",
   "execution_count": null,
   "id": "37ca368e-10f2-400f-9965-e56cf6a75d92",
   "metadata": {},
   "outputs": [],
   "source": [
    "import boto3\n",
    "import json\n",
    "import base64\n",
    "import os\n",
    "import io\n",
    "from pydub import AudioSegment\n",
    "\n",
    "endpoint_name = endpoint_name\n",
    "def encode_audio(audio_file_path):\n",
    "    # 加载音频文件\n",
    "    audio = AudioSegment.from_wav(audio_file_path)\n",
    "    \n",
    "    # 检查是否为双通道\n",
    "    if audio.channels == 2:\n",
    "        print(\"检测到双通道音频，正在转换为单通道...\")\n",
    "        # 将双通道转换为单通道\n",
    "        audio = audio.set_channels(1)\n",
    "    \n",
    "    # 将音频数据写入内存缓冲区\n",
    "    buffer = io.BytesIO()\n",
    "    audio.export(buffer, format=\"wav\")\n",
    "    buffer.seek(0)\n",
    "    \n",
    "    # 将缓冲区的内容编码为 base64\n",
    "    return base64.b64encode(buffer.read()).decode('utf-8')\n",
    "\n",
    "def invoke_sagemaker_endpoint(runtime_client, endpoint_name, audio_data, whisper_prompt=\"\"):\n",
    "    \"\"\"Invoke SageMaker endpoint with audio data\"\"\"\n",
    "    payload = {\n",
    "        \"whisper_prompt\": whisper_prompt,\n",
    "        \"audio_data\": audio_data\n",
    "    }\n",
    "    \n",
    "    response = runtime_client.invoke_endpoint(\n",
    "        EndpointName=endpoint_name,\n",
    "        ContentType='application/json',\n",
    "        Body=json.dumps(payload)\n",
    "    )\n",
    "    \n",
    "    result = json.loads(response['Body'].read().decode())\n",
    "    return result\n",
    "\n",
    "def transcribe_audio(audio_path, endpoint_name, whisper_prompt=\"\"):\n",
    "    # Convert audio to 16kHz mono WAV if it's not already\n",
    "    # Read and encode the audio file\n",
    "    print(\"Reading and encoding audio file...\")\n",
    "    audio_data = encode_audio(audio_path)\n",
    "\n",
    "    # Create a SageMaker runtime client\n",
    "    runtime_client = boto3.client('sagemaker-runtime')\n",
    "\n",
    "    # Invoke the SageMaker endpoint\n",
    "    print(f\"Invoking SageMaker endpoint: {endpoint_name}\")\n",
    "    result = invoke_sagemaker_endpoint(\n",
    "        runtime_client,\n",
    "        endpoint_name,\n",
    "        audio_data,\n",
    "        whisper_prompt\n",
    "    )\n",
    "\n",
    "    return result\n",
    "\n",
    "# Example usage\n",
    "if __name__ == \"__main__\":\n",
    "    # Set your parameters here\n",
    "    audio_path = \"./English_04.wav\"\n",
    "    whisper_prompt = \"\"  # Optional: add a prompt if needed, the defualt is <|startoftranscript|><|en|><|transcribe|><|notimestamps|>\n",
    "\n",
    "    # Call the function\n",
    "    result = transcribe_audio(audio_path, endpoint_name, whisper_prompt)\n",
    "\n",
    "    # Print the result\n",
    "    print(\"Transcription result:\")\n",
    "    print(result)\n"
   ]
  },
  {
   "cell_type": "code",
   "execution_count": null,
   "id": "22eabd2d-9707-45fb-9873-9d912ebca90a",
   "metadata": {},
   "outputs": [
    {
     "name": "stdout",
     "output_type": "stream",
     "text": [
      "Reading and encoding audio file...\n",
      "Invoking SageMaker endpoint: whisper-trt-triton-sshelper-2024-09-17-10-47-56-767\n",
      "Transcription result:\n",
      "{'code': 0, 'message': 'Success', 'transcribe_text': ' I want to play Sawyer.'}\n",
      "CPU times: user 17.1 ms, sys: 4.23 ms, total: 21.3 ms\n",
      "Wall time: 206 ms\n"
     ]
    }
   ],
   "source": [
    "%%time\n",
    "audio_path = \"./English_04.wav\"\n",
    "endpoint_name = endpoint_name # \"whisper-trt-triton-sshelper-2024-09-17-10-47-56-767\"\n",
    "whisper_prompt = \"\"  # Optional: add a prompt if needed\n",
    "\n",
    "# Call the function\n",
    "result = transcribe_audio(audio_path, endpoint_name, whisper_prompt)\n",
    "\n",
    "# Print the result\n",
    "print(\"Transcription result:\")\n",
    "print(result)"
   ]
  },
  {
   "cell_type": "code",
   "execution_count": 11,
   "id": "1166f62f-da5f-4e83-b247-18ad0014b336",
   "metadata": {
    "tags": []
   },
   "outputs": [],
   "source": [
    "sess.delete_endpoint(endpoint_name)\n",
    "sess.delete_endpoint_config(endpoint_name)\n",
    "sess.delete_model(model.name)"
   ]
  }
 ],
 "metadata": {
  "kernelspec": {
   "display_name": "conda_pytorch_p310",
   "language": "python",
   "name": "conda_pytorch_p310"
  },
  "language_info": {
   "codemirror_mode": {
    "name": "ipython",
    "version": 3
   },
   "file_extension": ".py",
   "mimetype": "text/x-python",
   "name": "python",
   "nbconvert_exporter": "python",
   "pygments_lexer": "ipython3",
   "version": "3.10.14"
  }
 },
 "nbformat": 4,
 "nbformat_minor": 5
}
